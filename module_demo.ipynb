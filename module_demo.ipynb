{
 "cells": [
  {
   "cell_type": "markdown",
   "id": "af1af0d8",
   "metadata": {},
   "source": [
    "# Demo usage\n",
    "Start by importing the ```CCalendar``` class from ```optimal_calendar```. Then, create an instance of this class. The constructor of ```CCalendar``` takes two _optional_ arguments, namely\n",
    "- ```lecture_types```: contains all keywords that indicate a lecture. Default value: ```[\"hoorcollege\"]``` \n",
    "- ```prac_sem_types```: contains all keywords that indicate a practical seminar group (or related event). Default value: ```[\"laptopcollege\", \"werkcollege\", \"presentatie\"]```\n",
    "\n",
    "Both arguments are used to _classify_ events while reading any data. Check your data to determine whether you need to pass your own lists as arguments.\n"
   ]
  },
  {
   "cell_type": "code",
   "execution_count": 1,
   "id": "a6555b2e",
   "metadata": {},
   "outputs": [],
   "source": [
    "from optimal_calendar import CCalendar"
   ]
  },
  {
   "cell_type": "code",
   "execution_count": 2,
   "id": "6f7497ad",
   "metadata": {},
   "outputs": [],
   "source": [
    "cal = CCalendar()"
   ]
  },
  {
   "cell_type": "markdown",
   "id": "b22ce9df",
   "metadata": {},
   "source": [
    "## Ignore certain data\n",
    "The data to be loaded must be in ```xlsx``` format, specifically the format the UvA uses for it's course schedules. We can use the method ```CCalendar.load_course_from_excel```. This method takes in four arguments, which are \n",
    "- ```title```: title of the course\n",
    "- ```path```: path to excel file\n",
    "- ```ignore_type``` and ```ignore_description```\n",
    "\n",
    "[Experimental | not yet tested in details]. When loading in the data, it is possible to ignore certain rows if they contain any of the specified keywords. We can ignore event types, e.g. PAV lectures, using ```ignore_type```. You might want to check your dataset to know which types to ignore (see the ```Type``` field in the excel file). In addition, we can ignore rows if their description contains any keyword in ```ignore_description```. Those lists can be different for every course. The default is an empty list, so no row will be ignored. \n",
    "\n",
    "Thus, the following lines are equivalent\n",
    "```\n",
    "cal.load_course_from_excel(path=\"\", title=\"\")\n",
    "cal.load_course_from_excel(path=\"\", title=\"\", ignore_description=[])\n",
    "```\n",
    "\n",
    "This feature might come in handy if you are not interested in lectures (e.g. you are a TA and are only interested in the practical seminars of the associated course). "
   ]
  },
  {
   "cell_type": "code",
   "execution_count": 3,
   "id": "2199ddf7",
   "metadata": {},
   "outputs": [
    {
     "name": "stdout",
     "output_type": "stream",
     "text": [
      "Calendar contains pss, iki, mdb, nwo and 0 others events\n"
     ]
    }
   ],
   "source": [
    "BASE = \"./schedules\" # folder containing the excel files\n",
    "EXTENS = \"xlsx\"\n",
    "\n",
    "ignore = []\n",
    "ignore_description = [\"optional\", \"reistijd\", \"klankbordgroep\", \"pav\"]\n",
    "\n",
    "# examples\n",
    "cal.load_course_from_excel(\n",
    "    path=f\"{BASE}/pss.{EXTENS}\", \n",
    "    title=\"pss\", \n",
    "    ignore_description=ignore_description, \n",
    "    ignore_type=[\"hoorcollege\"] # e.g. for when you are a TA and want to see which groups fit your schedule\n",
    ")\n",
    "cal.load_course_from_excel(path=f\"{BASE}/iki.{EXTENS}\", title=\"iki\", ignore_description=ignore_description)\n",
    "cal.load_course_from_excel(path=f\"{BASE}/mdb.{EXTENS}\", title=\"mdb\", ignore_description=ignore_description)\n",
    "cal.load_course_from_excel(path=f\"{BASE}/nwo.{EXTENS}\", title=\"nwo\", ignore_description=ignore_description)\n",
    "\n",
    "print(cal)"
   ]
  },
  {
   "cell_type": "markdown",
   "id": "06a0e6d3",
   "metadata": {},
   "source": [
    "# Finding combinations of practical seminar groups\n",
    "Now, we can complete our goal: finding combinations of practical seminar groups, such that there is no overlap between them (lectures, exams etc. are being accounted for as well). We only need to use the method ```CCalendar.find_all_schedules```, which takes three optional arguments.\n",
    "- ```format_output```: formats output. Default is True and is recommended.\n",
    "- ```start_time```: output only contains seminar groups such that no seminar group starts before ```start_time```. No start time is set by default. Only uses 24h format, e.g. ```12:05```. \n",
    "- ```end_time```: output only contains seminar groups such that no seminar group ends after ```end_time```. No start time is set by default. Only uses 24h format, e.g. ```12:05```.\n",
    "The arguments ```start_time``` and ```end_time``` must be used together, i.e. it will not work if you only specify one argument. You could, however, set the ```start_time``` at ```00:00``` if you do not care about starting time. Similarily, set ```24:00``` for ```end_time```.\n",
    "\n",
    "The method returns a Pandas DataFrame object, simplifying the process of filtering (un)wanted combinations."
   ]
  },
  {
   "cell_type": "code",
   "execution_count": 4,
   "id": "bb5ef18a",
   "metadata": {},
   "outputs": [
    {
     "name": "stdout",
     "output_type": "stream",
     "text": [
      "There are 96 possible schedules\n"
     ]
    },
    {
     "data": {
      "text/html": [
       "<div>\n",
       "<style scoped>\n",
       "    .dataframe tbody tr th:only-of-type {\n",
       "        vertical-align: middle;\n",
       "    }\n",
       "\n",
       "    .dataframe tbody tr th {\n",
       "        vertical-align: top;\n",
       "    }\n",
       "\n",
       "    .dataframe thead th {\n",
       "        text-align: right;\n",
       "    }\n",
       "</style>\n",
       "<table border=\"1\" class=\"dataframe\">\n",
       "  <thead>\n",
       "    <tr style=\"text-align: right;\">\n",
       "      <th></th>\n",
       "      <th>iki</th>\n",
       "      <th>mdb</th>\n",
       "      <th>nwo</th>\n",
       "      <th>pss</th>\n",
       "    </tr>\n",
       "  </thead>\n",
       "  <tbody>\n",
       "    <tr>\n",
       "      <th>0</th>\n",
       "      <td>E</td>\n",
       "      <td>H</td>\n",
       "      <td>D</td>\n",
       "      <td>A</td>\n",
       "    </tr>\n",
       "    <tr>\n",
       "      <th>1</th>\n",
       "      <td>E</td>\n",
       "      <td>H</td>\n",
       "      <td>D</td>\n",
       "      <td>B</td>\n",
       "    </tr>\n",
       "    <tr>\n",
       "      <th>2</th>\n",
       "      <td>E</td>\n",
       "      <td>H</td>\n",
       "      <td>D</td>\n",
       "      <td>C</td>\n",
       "    </tr>\n",
       "    <tr>\n",
       "      <th>3</th>\n",
       "      <td>E</td>\n",
       "      <td>H</td>\n",
       "      <td>D</td>\n",
       "      <td>D</td>\n",
       "    </tr>\n",
       "    <tr>\n",
       "      <th>4</th>\n",
       "      <td>E</td>\n",
       "      <td>H</td>\n",
       "      <td>D</td>\n",
       "      <td>E</td>\n",
       "    </tr>\n",
       "    <tr>\n",
       "      <th>5</th>\n",
       "      <td>E</td>\n",
       "      <td>H</td>\n",
       "      <td>D</td>\n",
       "      <td>F</td>\n",
       "    </tr>\n",
       "    <tr>\n",
       "      <th>6</th>\n",
       "      <td>E</td>\n",
       "      <td>H</td>\n",
       "      <td>D</td>\n",
       "      <td>G</td>\n",
       "    </tr>\n",
       "    <tr>\n",
       "      <th>7</th>\n",
       "      <td>E</td>\n",
       "      <td>H</td>\n",
       "      <td>D</td>\n",
       "      <td>H</td>\n",
       "    </tr>\n",
       "    <tr>\n",
       "      <th>8</th>\n",
       "      <td>E</td>\n",
       "      <td>H</td>\n",
       "      <td>D</td>\n",
       "      <td>I</td>\n",
       "    </tr>\n",
       "    <tr>\n",
       "      <th>9</th>\n",
       "      <td>E</td>\n",
       "      <td>H</td>\n",
       "      <td>D</td>\n",
       "      <td>J</td>\n",
       "    </tr>\n",
       "  </tbody>\n",
       "</table>\n",
       "</div>"
      ],
      "text/plain": [
       "  iki mdb nwo pss\n",
       "0   E   H   D   A\n",
       "1   E   H   D   B\n",
       "2   E   H   D   C\n",
       "3   E   H   D   D\n",
       "4   E   H   D   E\n",
       "5   E   H   D   F\n",
       "6   E   H   D   G\n",
       "7   E   H   D   H\n",
       "8   E   H   D   I\n",
       "9   E   H   D   J"
      ]
     },
     "execution_count": 4,
     "metadata": {},
     "output_type": "execute_result"
    }
   ],
   "source": [
    "df = cal.find_all_schedules(\n",
    "    start_time=\"10:00\",\n",
    "    end_time=\"17:00\"\n",
    ")\n",
    "\n",
    "print(f\"There are {len(df)} possible schedules\")\n",
    "df.head(10) # note that only the first 10 rows are shown below"
   ]
  },
  {
   "cell_type": "code",
   "execution_count": 5,
   "id": "a4611b26",
   "metadata": {},
   "outputs": [
    {
     "data": {
      "text/html": [
       "<div>\n",
       "<style scoped>\n",
       "    .dataframe tbody tr th:only-of-type {\n",
       "        vertical-align: middle;\n",
       "    }\n",
       "\n",
       "    .dataframe tbody tr th {\n",
       "        vertical-align: top;\n",
       "    }\n",
       "\n",
       "    .dataframe thead th {\n",
       "        text-align: right;\n",
       "    }\n",
       "</style>\n",
       "<table border=\"1\" class=\"dataframe\">\n",
       "  <thead>\n",
       "    <tr style=\"text-align: right;\">\n",
       "      <th></th>\n",
       "      <th>iki</th>\n",
       "      <th>mdb</th>\n",
       "      <th>nwo</th>\n",
       "      <th>pss</th>\n",
       "    </tr>\n",
       "  </thead>\n",
       "  <tbody>\n",
       "    <tr>\n",
       "      <th>0</th>\n",
       "      <td>E</td>\n",
       "      <td>H</td>\n",
       "      <td>D</td>\n",
       "      <td>A</td>\n",
       "    </tr>\n",
       "    <tr>\n",
       "      <th>12</th>\n",
       "      <td>E</td>\n",
       "      <td>I</td>\n",
       "      <td>D</td>\n",
       "      <td>A</td>\n",
       "    </tr>\n",
       "  </tbody>\n",
       "</table>\n",
       "</div>"
      ],
      "text/plain": [
       "   iki mdb nwo pss\n",
       "0    E   H   D   A\n",
       "12   E   I   D   A"
      ]
     },
     "execution_count": 5,
     "metadata": {},
     "output_type": "execute_result"
    }
   ],
   "source": [
    "# example: see all combinations such that iki group is E and pss group is A\n",
    "df[(df[\"iki\"] == \"E\") & (df[\"pss\"] == \"A\")]"
   ]
  },
  {
   "cell_type": "code",
   "execution_count": null,
   "id": "92b168a8",
   "metadata": {},
   "outputs": [],
   "source": []
  }
 ],
 "metadata": {
  "kernelspec": {
   "display_name": "Python 3",
   "language": "python",
   "name": "python3"
  },
  "language_info": {
   "codemirror_mode": {
    "name": "ipython",
    "version": 3
   },
   "file_extension": ".py",
   "mimetype": "text/x-python",
   "name": "python",
   "nbconvert_exporter": "python",
   "pygments_lexer": "ipython3",
   "version": "3.8.8"
  }
 },
 "nbformat": 4,
 "nbformat_minor": 5
}
