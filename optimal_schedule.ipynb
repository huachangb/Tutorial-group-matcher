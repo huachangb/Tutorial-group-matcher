{
 "cells": [
  {
   "cell_type": "code",
   "execution_count": 1,
   "id": "2358ecad",
   "metadata": {},
   "outputs": [],
   "source": [
    "from calendar_planner import Calendar"
   ]
  },
  {
   "cell_type": "markdown",
   "id": "d2b99162",
   "metadata": {},
   "source": [
    "# Create a calendar\n",
    "A ```Calendar```-object takes 4 lists as parameters:\n",
    "- lecture_types: lectures that cannot be moved\n",
    "- practical_lectures: lectures or activities that are attended by group.\n",
    "- ignore: class types to ignore (see field `type` in Excel file).\n",
    "- ignore_description: this list will be used to determine whether to ignore the record in the Excel file based on the field `description`."
   ]
  },
  {
   "cell_type": "code",
   "execution_count": 2,
   "id": "8dc8fa7d",
   "metadata": {},
   "outputs": [],
   "source": [
    "# configuration\n",
    "lecture_types = [\"hoorcollege\"]\n",
    "practical_types = [\"laptopcollege\", \"werkcollege\", \"presentatie\"]\n",
    "ignore = []\n",
    "ignore_description = [\"optional\", \"reistijd\", \"Klankbordgroep\", \"PAV\"]\n",
    "\n",
    "# create calendar \n",
    "calendar = Calendar(\n",
    "    lecture_types=lecture_types, \n",
    "    practical_types=practical_types,\n",
    "    ignore=ignore,\n",
    "    ignore_description=ignore_description\n",
    ")"
   ]
  },
  {
   "cell_type": "markdown",
   "id": "03079f81",
   "metadata": {},
   "source": [
    "## Add courses to our calendar\n",
    "Now we can add courses to our calendar. We first create a dictionary that specifies where the Excel files of the courses can be found. The name of the course should be used as key and the path to the file as value."
   ]
  },
  {
   "cell_type": "code",
   "execution_count": 3,
   "id": "93448a54",
   "metadata": {},
   "outputs": [],
   "source": [
    "# base\n",
    "BASE = \"./courses\"\n",
    "\n",
    "# path to files\n",
    "course_paths = {\n",
    "    \"calculus\": f\"{BASE}/cc.xlsx\",\n",
    "    \"taal theorie\": \"./courses/tt.xlsx\",\n",
    "    \"organisatie: analyse & ontwikkeling\": \"./courses/org.xlsx\"\n",
    "}"
   ]
  },
  {
   "cell_type": "markdown",
   "id": "1f68a77d",
   "metadata": {},
   "source": [
    "We now will add our courses to our calendar by calling `Calendar`'s method ```read_courses_from_excel``` which takes 1 parameter, the dictionary ```course_paths``` which we just made."
   ]
  },
  {
   "cell_type": "code",
   "execution_count": 4,
   "id": "368b09fe",
   "metadata": {},
   "outputs": [
    {
     "name": "stdout",
     "output_type": "stream",
     "text": [
      "Calendar contains: calculus, taal theorie, organisatie: analyse & ontwikkeling and 0 other event(s)\n"
     ]
    }
   ],
   "source": [
    "calendar.read_courses_from_excel(course_paths)\n",
    "print(calendar)"
   ]
  },
  {
   "cell_type": "markdown",
   "id": "e85048d5",
   "metadata": {},
   "source": [
    "# Find all possible combinations\n",
    "Finally, we can find all possible combinations of practical seminars by calling ```Calendar```'s method ```find_all_schedules```. This method takes 3 __optional__ parameters, namely:\n",
    "- format_groups: simplifies output\n",
    "- start_time: a string that contains the lower time limit. This must be in 24-hour notation. Must be used in combination with the parameter ```end_time```. \n",
    "- end_time: a string that contains the lower time limit. This must be in 24-hour notation. Must be used in combination with the parameter ```start_time```. \n",
    "\n",
    "If ```start_time``` and ```end_time``` are set, only practical seminar groups are returned if their combined schedule falls within the given time range. The method returns a Pandas DataFrame, containing the groups of the corresponding course. Every record in the DataFrame is a possible combination of practical seminar groups."
   ]
  },
  {
   "cell_type": "code",
   "execution_count": 5,
   "id": "b62b68cd",
   "metadata": {},
   "outputs": [
    {
     "name": "stdout",
     "output_type": "stream",
     "text": [
      "There are 44 possible schedules\n"
     ]
    },
    {
     "data": {
      "text/html": [
       "<div>\n",
       "<style scoped>\n",
       "    .dataframe tbody tr th:only-of-type {\n",
       "        vertical-align: middle;\n",
       "    }\n",
       "\n",
       "    .dataframe tbody tr th {\n",
       "        vertical-align: top;\n",
       "    }\n",
       "\n",
       "    .dataframe thead th {\n",
       "        text-align: right;\n",
       "    }\n",
       "</style>\n",
       "<table border=\"1\" class=\"dataframe\">\n",
       "  <thead>\n",
       "    <tr style=\"text-align: right;\">\n",
       "      <th></th>\n",
       "      <th>calculus</th>\n",
       "      <th>organisatie: analyse &amp; ontwikkeling</th>\n",
       "      <th>taal theorie</th>\n",
       "    </tr>\n",
       "  </thead>\n",
       "  <tbody>\n",
       "    <tr>\n",
       "      <th>0</th>\n",
       "      <td>G</td>\n",
       "      <td>B</td>\n",
       "      <td>K</td>\n",
       "    </tr>\n",
       "    <tr>\n",
       "      <th>1</th>\n",
       "      <td>H</td>\n",
       "      <td>B</td>\n",
       "      <td>K</td>\n",
       "    </tr>\n",
       "    <tr>\n",
       "      <th>2</th>\n",
       "      <td>L</td>\n",
       "      <td>B</td>\n",
       "      <td>K</td>\n",
       "    </tr>\n",
       "    <tr>\n",
       "      <th>3</th>\n",
       "      <td>M</td>\n",
       "      <td>B</td>\n",
       "      <td>K</td>\n",
       "    </tr>\n",
       "    <tr>\n",
       "      <th>4</th>\n",
       "      <td>F</td>\n",
       "      <td>B</td>\n",
       "      <td>K</td>\n",
       "    </tr>\n",
       "    <tr>\n",
       "      <th>5</th>\n",
       "      <td>I</td>\n",
       "      <td>B</td>\n",
       "      <td>K</td>\n",
       "    </tr>\n",
       "    <tr>\n",
       "      <th>6</th>\n",
       "      <td>K</td>\n",
       "      <td>B</td>\n",
       "      <td>K</td>\n",
       "    </tr>\n",
       "    <tr>\n",
       "      <th>7</th>\n",
       "      <td>G</td>\n",
       "      <td>A</td>\n",
       "      <td>K</td>\n",
       "    </tr>\n",
       "    <tr>\n",
       "      <th>8</th>\n",
       "      <td>H</td>\n",
       "      <td>A</td>\n",
       "      <td>K</td>\n",
       "    </tr>\n",
       "    <tr>\n",
       "      <th>9</th>\n",
       "      <td>L</td>\n",
       "      <td>A</td>\n",
       "      <td>K</td>\n",
       "    </tr>\n",
       "  </tbody>\n",
       "</table>\n",
       "</div>"
      ],
      "text/plain": [
       "  calculus organisatie: analyse & ontwikkeling taal theorie\n",
       "0        G                                   B            K\n",
       "1        H                                   B            K\n",
       "2        L                                   B            K\n",
       "3        M                                   B            K\n",
       "4        F                                   B            K\n",
       "5        I                                   B            K\n",
       "6        K                                   B            K\n",
       "7        G                                   A            K\n",
       "8        H                                   A            K\n",
       "9        L                                   A            K"
      ]
     },
     "execution_count": 5,
     "metadata": {},
     "output_type": "execute_result"
    }
   ],
   "source": [
    "df = calendar.find_all_schedules(\n",
    "    format_groups=True, \n",
    "#     start_time=\"10:00\", \n",
    "#     end_time=\"17:00\"\n",
    ")\n",
    "print(f\"There are {len(df)} possible schedules\")\n",
    "df.head(10)"
   ]
  },
  {
   "cell_type": "code",
   "execution_count": 6,
   "id": "c3c1040b",
   "metadata": {},
   "outputs": [
    {
     "data": {
      "text/html": [
       "<div>\n",
       "<style scoped>\n",
       "    .dataframe tbody tr th:only-of-type {\n",
       "        vertical-align: middle;\n",
       "    }\n",
       "\n",
       "    .dataframe tbody tr th {\n",
       "        vertical-align: top;\n",
       "    }\n",
       "\n",
       "    .dataframe thead th {\n",
       "        text-align: right;\n",
       "    }\n",
       "</style>\n",
       "<table border=\"1\" class=\"dataframe\">\n",
       "  <thead>\n",
       "    <tr style=\"text-align: right;\">\n",
       "      <th></th>\n",
       "      <th>calculus</th>\n",
       "      <th>organisatie: analyse &amp; ontwikkeling</th>\n",
       "      <th>taal theorie</th>\n",
       "    </tr>\n",
       "  </thead>\n",
       "  <tbody>\n",
       "    <tr>\n",
       "      <th>7</th>\n",
       "      <td>G</td>\n",
       "      <td>A</td>\n",
       "      <td>K</td>\n",
       "    </tr>\n",
       "    <tr>\n",
       "      <th>8</th>\n",
       "      <td>H</td>\n",
       "      <td>A</td>\n",
       "      <td>K</td>\n",
       "    </tr>\n",
       "    <tr>\n",
       "      <th>9</th>\n",
       "      <td>L</td>\n",
       "      <td>A</td>\n",
       "      <td>K</td>\n",
       "    </tr>\n",
       "    <tr>\n",
       "      <th>10</th>\n",
       "      <td>M</td>\n",
       "      <td>A</td>\n",
       "      <td>K</td>\n",
       "    </tr>\n",
       "    <tr>\n",
       "      <th>11</th>\n",
       "      <td>F</td>\n",
       "      <td>A</td>\n",
       "      <td>K</td>\n",
       "    </tr>\n",
       "    <tr>\n",
       "      <th>12</th>\n",
       "      <td>I</td>\n",
       "      <td>A</td>\n",
       "      <td>K</td>\n",
       "    </tr>\n",
       "    <tr>\n",
       "      <th>13</th>\n",
       "      <td>K</td>\n",
       "      <td>A</td>\n",
       "      <td>K</td>\n",
       "    </tr>\n",
       "  </tbody>\n",
       "</table>\n",
       "</div>"
      ],
      "text/plain": [
       "   calculus organisatie: analyse & ontwikkeling taal theorie\n",
       "7         G                                   A            K\n",
       "8         H                                   A            K\n",
       "9         L                                   A            K\n",
       "10        M                                   A            K\n",
       "11        F                                   A            K\n",
       "12        I                                   A            K\n",
       "13        K                                   A            K"
      ]
     },
     "execution_count": 6,
     "metadata": {},
     "output_type": "execute_result"
    }
   ],
   "source": [
    "df[df[\"organisatie: analyse & ontwikkeling\"] == \"A\"]"
   ]
  },
  {
   "cell_type": "code",
   "execution_count": null,
   "id": "6d60337f",
   "metadata": {},
   "outputs": [],
   "source": []
  },
  {
   "cell_type": "code",
   "execution_count": null,
   "id": "e1ecfd02",
   "metadata": {},
   "outputs": [],
   "source": []
  }
 ],
 "metadata": {
  "kernelspec": {
   "display_name": "Python 3",
   "language": "python",
   "name": "python3"
  },
  "language_info": {
   "codemirror_mode": {
    "name": "ipython",
    "version": 3
   },
   "file_extension": ".py",
   "mimetype": "text/x-python",
   "name": "python",
   "nbconvert_exporter": "python",
   "pygments_lexer": "ipython3",
   "version": "3.8.8"
  }
 },
 "nbformat": 4,
 "nbformat_minor": 5
}
